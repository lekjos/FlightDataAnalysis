{
 "cells": [
  {
   "cell_type": "markdown",
   "metadata": {},
   "source": [
    "## Setup\n",
    "This notebook contains the code to create a database in postgres and import flight data. In produciton, I normally would not use a Juypter notebook, but it makes it easy to present my code in this demo.\n",
    "\n",
    "The first cell below contains all our necessary imports and loads our environment variables. Be sure to run the cells in order or press the run all button up top, otherwise you may get errors."
   ]
  },
  {
   "cell_type": "code",
   "execution_count": null,
   "metadata": {},
   "outputs": [],
   "source": [
    "import os\n",
    "from DBConn import DBConn\n",
    "from dotenv import load_dotenv\n",
    "import pandas as pd\n",
    "import numpy as np\n",
    "from sqlalchemy.types import String\n",
    "\n",
    "\n",
    "PROJECT_ROOT = os.path.dirname(os.path.realpath(\"__file__\")) #Change if needed, defaults to location of this file\n",
    "print('Project Root:', PROJECT_ROOT)\n",
    "DATA_DIR = os.path.join(PROJECT_ROOT,'data') # modify as needed or move data to projec_root\\data\\ (which is in .gitignore)\n",
    "print('Data Directory:', DATA_DIR)\n",
    "\n",
    "# store data paths for later use -- modify filenames if yours are different\n",
    "FLIGHT_DATA_DIR = os.path.join(DATA_DIR, 'FlightDataUncompressed')\n",
    "FLIGHT_DATA_FNAMES = os.listdir(FLIGHT_DATA_DIR)\n",
    "FLIGHT_DATA_PATHS = []\n",
    "for file_name in FLIGHT_DATA_FNAMES:\n",
    "    FLIGHT_DATA_PATHS.append(os.path.join(FLIGHT_DATA_DIR, file_name))\n",
    "AIRPORTS_PATH = os.path.join(DATA_DIR, 'airports.csv')\n",
    "CARRIERS_PATH = os.path.join(DATA_DIR, 'carriers.csv')\n",
    "\n",
    "# load enviornment variables storing database conneciton info\n",
    "load_dotenv(PROJECT_ROOT)   #values can now be accessed using os.getenv(KEY_NAME)"
   ]
  },
  {
   "cell_type": "markdown",
   "metadata": {},
   "source": [
    "## EDA with Pandas -- determine structure of data for database schema\n"
   ]
  },
  {
   "cell_type": "code",
   "execution_count": null,
   "metadata": {},
   "outputs": [],
   "source": [
    "# ingest to pandas\n",
    "airports_df = pd.read_csv(AIRPORTS_PATH) \n",
    "carriers_df = pd.read_csv(CARRIERS_PATH)\n",
    "print(f'Found {len(FLIGHT_DATA_FNAMES)} years of flight data starting: from {FLIGHT_DATA_FNAMES[0].rstrip(\".csv\")} - {FLIGHT_DATA_FNAMES[-1].rstrip(\".csv\")}')\n",
    "print(f'looking at {FLIGHT_DATA_FNAMES[0].rstrip(\".csv\")}')\n",
    "flight_df = pd.read_csv(FLIGHT_DATA_PATHS[0],)\n",
    "\n",
    "def print_max_str_len(df:pd.DataFrame):\n",
    "    \"\"\"\n",
    "    Print max length of string columns in pandas dataframe\n",
    "    \"\"\"\n",
    "    index = 0\n",
    "    for col_name, col in df.iteritems():\n",
    "        try:\n",
    "            print(index, col_name, 'str', col.str.len().max())\n",
    "        except AttributeError:\n",
    "            try:\n",
    "                print(index, col_name, 'int/float', max(col.map(str).apply(len)))\n",
    "            except AttributeError:\n",
    "                #lazy way to print col length of strings and ints\n",
    "                pass\n",
    "        index += 1"
   ]
  },
  {
   "cell_type": "code",
   "execution_count": null,
   "metadata": {},
   "outputs": [],
   "source": [
    "## Airports Schema\n",
    "# print(airports_df.head(5))\n",
    "print(airports_df.info())\n",
    "print_max_str_len(airports_df)\n"
   ]
  },
  {
   "cell_type": "code",
   "execution_count": null,
   "metadata": {},
   "outputs": [],
   "source": [
    "## Carriers Schema\n",
    "carriers_df.head()\n",
    "# carriers_df.info()\n",
    "# print_max_str_len(carriers_df)\n"
   ]
  },
  {
   "cell_type": "code",
   "execution_count": null,
   "metadata": {},
   "outputs": [],
   "source": [
    "## Flights Schema\n",
    "flight_df.info()\n",
    "# print_max_str_len(flight_df)"
   ]
  },
  {
   "cell_type": "code",
   "execution_count": null,
   "metadata": {},
   "outputs": [],
   "source": [
    "# flight_df.UniqueCarrier[0]\n",
    "flight_df.head() # uncomment to see first five rows. You'll also need to comment next line.\n",
    "#print(flight_df.info(verbose=True))\n",
    "print(flight_df.ArrTime.describe())"
   ]
  },
  {
   "cell_type": "markdown",
   "metadata": {},
   "source": [
    "Ok, so we've now looked at the columns in each dataset and can see that we'll need three tables relaations between:\n",
    "- `flight.Origin`, `flight.Destination` to `airports.iata`\n",
    "- `flight.UniqueCarrier` to `carrier.Code`\n",
    "\n",
    "Now lets get the tables created in SQL:"
   ]
  },
  {
   "cell_type": "markdown",
   "metadata": {},
   "source": [
    "\n",
    "### Create Flight Data Database\n",
    "The database in the .env file is just an entry point. We are going to now create new database and load in our flight data.\n",
    "\n",
    "#### Create database connection"
   ]
  },
  {
   "cell_type": "code",
   "execution_count": null,
   "metadata": {},
   "outputs": [],
   "source": [
    "### Create Database\n",
    "DATABASE_NAME = 'flight_data'\n",
    "\n",
    "# Create database if it doesn't exist already\n",
    "sql = f'''--sql\n",
    "SELECT 'CREATE DATABASE {DATABASE_NAME}'\n",
    "WHERE NOT EXISTS (SELECT FROM pg_database WHERE datname = '{DATABASE_NAME}');\n",
    "'''\n",
    "\n",
    "conn = DBConn()\n",
    "result = conn.exec(sql)\n",
    "print(\"Database created successfully or already exists....\")\n",
    "DBConn.set_database(DATABASE_NAME)\n",
    "conn.close()\n"
   ]
  },
  {
   "cell_type": "markdown",
   "metadata": {},
   "source": [
    "## Create Tables"
   ]
  },
  {
   "cell_type": "code",
   "execution_count": null,
   "metadata": {},
   "outputs": [],
   "source": [
    "## Create Airport Table\n",
    "conn = DBConn()\n",
    "print('accessing', conn.get_database())\n",
    "sql = f'''--sql\n",
    "DROP TABLE flights;\n",
    "DROP TABLE carriers;\n",
    "--DROP TABLE airports;\n",
    "\n",
    "--sql\n",
    " CREATE TABLE IF NOT EXISTS carriers (\n",
    "    \"Code\" VARCHAR(6) NOT NULL,\n",
    "    \"Description\" VARCHAR(50),\n",
    "    CONSTRAINT carriers_pkey PRIMARY KEY (\"Code\")\n",
    ");\n",
    "\n",
    "--sql -- comment included for code highlighting in IDE\n",
    "CREATE TABLE IF NOT EXISTS airports (\n",
    "    iata VARCHAR(4) NOT NULL,\n",
    "    airport VARCHAR(50) NOT NULL,\n",
    "    state CHAR(2) NOT NULL,\n",
    "    country VARCHAR(40) NOT NULL,\n",
    "    lat DOUBLE PRECISION NOT NULL,\n",
    "    long DOUBLE PRECISION NOT NULL,\n",
    "    CONSTRAINT airport_pkey PRIMARY KEY (iata)\n",
    ");\n",
    "\n",
    "CREATE TABLE IF NOT EXISTS flights (\n",
    " \"Year\" INTEGER NOT NULL,  \n",
    " \"Month\" INTEGER NOT NULL,  \n",
    " \"DayofMonth\" INTEGER NOT NULL,  \n",
    " \"DayOfWeek\" INTEGER NOT NULL,  \n",
    " \"DepTime\" INTEGER,\n",
    " \"CRSDepTime\" INTEGER NOT NULL,  \n",
    " \"ArrTime\" INTEGER,\n",
    " \"CRSArrTime\" INTEGER NOT NULL,  \n",
    " \"UniqueCarrier\" VARCHAR(6) NOT NULL,\n",
    " \"FlightNum\" INTEGER NOT NULL,  \n",
    " \"TailNum\" INTEGER,\n",
    " \"ActualElapsedTime\" INTEGER,\n",
    " \"CRSElapsedTime\" INTEGER NOT NULL,  \n",
    " \"AirTime\" INTEGER,\n",
    " \"ArrDelay\" INTEGER,\n",
    " \"DepDelay\" INTEGER,\n",
    " \"Origin\" VARCHAR(3) NOT NULL, \n",
    " \"Dest\" VARCHAR(3) NOT NULL, \n",
    " \"Distance\" INTEGER,\n",
    " \"TaxiIn\" INTEGER,\n",
    " \"TaxiOut\" INTEGER,\n",
    " \"Cancelled\" INTEGER NOT NULL,  \n",
    " \"CancellationCode\" INTEGER,\n",
    " \"Diverted\" INTEGER NOT NULL,  \n",
    " \"CarrierDelay\" INTEGER,\n",
    " \"WeatherDelay\" INTEGER,\n",
    " \"NASDelay\" INTEGER,\n",
    " \"SecurityDelay\" INTEGER,\n",
    " \"LateAircraftDelay\" INTEGER,\n",
    " \n",
    " PRIMARY KEY (\"Year\", \"Month\", \"DayofMonth\", \"UniqueCarrier\", \"CRSDepTime\", \"FlightNum\"),\n",
    "\n",
    " CONSTRAINT origin_airport_fk\n",
    "    FOREIGN KEY (\"Origin\")\n",
    "    REFERENCES airports(iata)\n",
    "    ON DELETE CASCADE,\n",
    "\n",
    " CONSTRAINT dest_airport_fk \n",
    "    FOREIGN KEY (\"Dest\")\n",
    "    REFERENCES airports(iata)\n",
    "    ON DELETE CASCADE,\n",
    "\n",
    " CONSTRAINT uniquecarrier_carriers_fk \n",
    "    FOREIGN KEY (\"UniqueCarrier\")\n",
    "    REFERENCES carriers(\"Code\")\n",
    "    ON DELETE CASCADE\n",
    "\n",
    ");\n",
    "'''\n",
    "conn.exec(sql)\n",
    "print('create successful or already created')\n",
    "conn.close()"
   ]
  },
  {
   "cell_type": "markdown",
   "metadata": {},
   "source": [
    "## Load Data"
   ]
  },
  {
   "cell_type": "code",
   "execution_count": null,
   "metadata": {},
   "outputs": [],
   "source": [
    "\n"
   ]
  }
 ],
 "metadata": {
  "interpreter": {
   "hash": "62fceacedb450e62e0875c801c359dca848f3b893084d28dc80946ee182fde9c"
  },
  "kernelspec": {
   "display_name": "Python 3.9.7 64-bit ('TME-Local': venv)",
   "language": "python",
   "name": "python3"
  },
  "language_info": {
   "codemirror_mode": {
    "name": "ipython",
    "version": 3
   },
   "file_extension": ".py",
   "mimetype": "text/x-python",
   "name": "python",
   "nbconvert_exporter": "python",
   "pygments_lexer": "ipython3",
   "version": "3.9.7"
  },
  "orig_nbformat": 4
 },
 "nbformat": 4,
 "nbformat_minor": 2
}
