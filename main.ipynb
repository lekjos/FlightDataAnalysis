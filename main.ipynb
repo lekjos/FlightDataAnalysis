{
 "cells": [
  {
   "cell_type": "markdown",
   "metadata": {},
   "source": [
    "# Leif Kjos ***REMOVED*** BI Analyst Take Home Test\n",
    "## Setup\n",
    "This notebook contains the code to create a database in postgres and import flight data. In produciton, I normally would not use a Juypter notebook, but it makes it easy to present my code in this demo.\n",
    "\n",
    "The first cell below contains all our necessary imports and loads our environment variables. Be sure to run the cells in order or press the run all button up top, otherwise you may get errors."
   ]
  },
  {
   "cell_type": "code",
   "execution_count": null,
   "metadata": {},
   "outputs": [],
   "source": [
    "import chardet, csv, datetime, os\n",
    "from copy import deepcopy\n",
    "from DBConn import DBConn\n",
    "from dotenv import load_dotenv\n",
    "from helpers import make_table, row_count, print_max_str_len\n",
    "import numpy as np\n",
    "import pandas as pd\n",
    "from sqlalchemy.dialects.postgresql import DOUBLE_PRECISION, SMALLINT, BOOLEAN, VARCHAR, CHAR\n",
    "from sqlalchemy import create_engine, event\n",
    "\n",
    "\n",
    "PROJECT_ROOT = os.path.dirname(os.path.realpath(\"__file__\")) #Change if needed, defaults to location of this file\n",
    "print('Project Root:', PROJECT_ROOT)\n",
    "\n",
    "## Name of database to create.\n",
    "DATABASE_NAME = 'flight_data'\n",
    "DBConn.set_database(DATABASE_NAME) \n",
    "\n",
    "## Set Data Directory\n",
    "# DATA_DIR = os.path.join(PROJECT_ROOT,'data') # modify as needed or move data to projec_root\\data\\ (which is in .gitignore)\n",
    "DATA_DIR = 'C:\\\\Users\\\\Public\\\\data\\\\' # modify as needed or move data to projec_root\\data\\ (which is in .gitignore)\n",
    "print('Data Directory:', DATA_DIR)\n",
    "\n",
    "## Set data paths -- modify folder/file names if yours are different\n",
    "FLIGHT_DATA_DIR = os.path.join(DATA_DIR, 'FlightDataUncompressed') #assumes flights are stored in sub-directory called 'FlightDataUncompressed'\n",
    "FLIGHT_DATA_FNAMES = os.listdir(FLIGHT_DATA_DIR)\n",
    "FLIGHT_DATA_PATHS = []\n",
    "for file_name in FLIGHT_DATA_FNAMES:\n",
    "    FLIGHT_DATA_PATHS.append(os.path.join(FLIGHT_DATA_DIR, file_name))\n",
    "\n",
    "# assumes airports and carriers are stored in data dir\n",
    "AIRPORTS_PATH = os.path.join(DATA_DIR, 'airports.csv')\n",
    "CARRIERS_PATH = os.path.join(DATA_DIR, 'carriers.csv')\n",
    "\n",
    "# load enviornment variables storing database conneciton info, accessed via os.getenv('KEY_NAME')\n",
    "load_dotenv(PROJECT_ROOT)   \n",
    "\n",
    "# initialize answers for problem set\n",
    "ans = dict()\n",
    "head = dict() "
   ]
  },
  {
   "cell_type": "markdown",
   "metadata": {},
   "source": [
    "## EDA with Pandas -- determine structure of data for database schema\n"
   ]
  },
  {
   "cell_type": "code",
   "execution_count": 41,
   "metadata": {},
   "outputs": [
    {
     "name": "stdout",
     "output_type": "stream",
     "text": [
      "1987.csv: 1311826\n",
      "1988.csv: 5202096\n",
      "1989.csv: 5041200\n",
      "1990.csv: 5270893\n",
      "1991.csv: 5076925\n",
      "1992.csv: 5092157\n",
      "1993.csv: 5070501\n",
      "1994.csv: 5180048\n",
      "1995.csv: 5327435\n",
      "1996.csv: 5351983\n",
      "1997.csv: 5411843\n",
      "1998.csv: 5384721\n",
      "1999.csv: 5527884\n",
      "2000.csv: 5683047\n",
      "2001.csv: 5967780\n",
      "2002.csv: 5271359\n",
      "2003.csv: 6488540\n",
      "2004.csv: 7129270\n",
      "2005.csv: 7140596\n",
      "2006.csv: 7141922\n",
      "2007.csv: 7453215\n",
      "2008.csv: 7009728\n",
      "total rows: 123534969\n"
     ]
    }
   ],
   "source": [
    "## First, lets see how big the files are and encoding\n",
    "total_rows = 0\n",
    "file_rows = dict()\n",
    "for path_ in FLIGHT_DATA_PATHS:\n",
    "    name = os.path.basename(path_)\n",
    "    with open(path_,'rb') as file:\n",
    "        if int(name.rstrip('.csv'))>=0:       \n",
    "            file_rows[name] = row_count(file)\n",
    "            total_rows += file_rows[name]\n",
    "            print(f\"{name}: {file_rows[name]}\")\n",
    "            # print(f'{name} chardet:') #to find encoding\n",
    "            # print(chardet.detect(file.read(1000)))\n",
    "print(f'total rows: {total_rows}')"
   ]
  },
  {
   "cell_type": "code",
   "execution_count": 40,
   "metadata": {},
   "outputs": [
    {
     "name": "stdout",
     "output_type": "stream",
     "text": [
      "Found 22 years of flight data starting: from 1987 - 2008\n",
      "looking at 1987\n"
     ]
    }
   ],
   "source": [
    "# ingest to pandas\n",
    "airports_df = pd.read_csv(AIRPORTS_PATH) \n",
    "carriers_df = pd.read_csv(CARRIERS_PATH)\n",
    "carriers_df = carriers_df.fillna('NA') ## Added after EDA, due to North American Airlines being interpreted as null\n",
    "\n",
    "print(f'Found {len(FLIGHT_DATA_FNAMES)} years of flight data starting: from {FLIGHT_DATA_FNAMES[0].rstrip(\".csv\")} - {FLIGHT_DATA_FNAMES[-1].rstrip(\".csv\")}')\n",
    "print(f'looking at {FLIGHT_DATA_FNAMES[0].rstrip(\".csv\")}')\n",
    "flight_df = pd.read_csv(FLIGHT_DATA_PATHS[9], encoding='ascii')"
   ]
  },
  {
   "cell_type": "code",
   "execution_count": 42,
   "metadata": {},
   "outputs": [
    {
     "name": "stdout",
     "output_type": "stream",
     "text": [
      "iata        0\n",
      "airport     0\n",
      "city       12\n",
      "state      12\n",
      "country     0\n",
      "lat         0\n",
      "long        0\n",
      "dtype: int64\n"
     ]
    }
   ],
   "source": [
    "## Figuring out airport schema\n",
    "# uncomment one line at a time to see info about the dataframe\n",
    "# print(airports_df.head(5))    # first five rows\n",
    "# print(airports_df.info())     # column information and data types\n",
    "\n",
    "## During import, I found that CMB was missing so I looked up the airport and added it manually in pgadmin\n",
    "# print(airports_df[airports_df['iata'].astype(str).str.contains('CBM')])\n",
    "\n",
    "# print_max_str_len(airports_df)  # max col length\n",
    "print(airports_df.isnull().sum()) #count null per column\n"
   ]
  },
  {
   "cell_type": "code",
   "execution_count": 39,
   "metadata": {},
   "outputs": [
    {
     "name": "stdout",
     "output_type": "stream",
     "text": [
      "0 Code str 7\n",
      "1 Description str 83\n"
     ]
    }
   ],
   "source": [
    "## Figuring out Carriers Schema\n",
    "## uncomment lines to see what steps I took.\n",
    "\n",
    "# carriers_df.head()                #first five rows\n",
    "# carriers_df.info()                #info about data types\n",
    "print_max_str_len(carriers_df)    #max string length\n",
    "\n",
    "## Null count\n",
    "# print('null values:')\n",
    "# print(carriers_df.isnull().sum())\n",
    "\n",
    "### looks like we have a null value\n",
    "# carriers_df[carriers_df.Code.isnull()]\n",
    "\n",
    "###and it's caused by North American being interpreted as NA.\n",
    "## added null handling above on import step\n"
   ]
  },
  {
   "cell_type": "code",
   "execution_count": null,
   "metadata": {},
   "outputs": [],
   "source": [
    "## Figuring out Flights Schema\n",
    "\n",
    "# flight_df.info()\n",
    "# flight_df.UniqueCarrier.isnull().sum()\n",
    "# print_max_str_len(flight_df)\n",
    "\n",
    "## This looks like a boolean field\n",
    "# print(flight_df.Diverted.value_counts())\n",
    "\n",
    "## fk to carriers\n",
    "# flight_df.UniqueCarrier[0]"
   ]
  },
  {
   "cell_type": "code",
   "execution_count": 38,
   "metadata": {},
   "outputs": [
    {
     "data": {
      "text/html": [
       "<div>\n",
       "<style scoped>\n",
       "    .dataframe tbody tr th:only-of-type {\n",
       "        vertical-align: middle;\n",
       "    }\n",
       "\n",
       "    .dataframe tbody tr th {\n",
       "        vertical-align: top;\n",
       "    }\n",
       "\n",
       "    .dataframe thead th {\n",
       "        text-align: right;\n",
       "    }\n",
       "</style>\n",
       "<table border=\"1\" class=\"dataframe\">\n",
       "  <thead>\n",
       "    <tr style=\"text-align: right;\">\n",
       "      <th></th>\n",
       "      <th>Year</th>\n",
       "      <th>Month</th>\n",
       "      <th>DayofMonth</th>\n",
       "      <th>DayOfWeek</th>\n",
       "      <th>DepTime</th>\n",
       "      <th>CRSDepTime</th>\n",
       "      <th>ArrTime</th>\n",
       "      <th>CRSArrTime</th>\n",
       "      <th>UniqueCarrier</th>\n",
       "      <th>FlightNum</th>\n",
       "      <th>...</th>\n",
       "      <th>TaxiIn</th>\n",
       "      <th>TaxiOut</th>\n",
       "      <th>Cancelled</th>\n",
       "      <th>CancellationCode</th>\n",
       "      <th>Diverted</th>\n",
       "      <th>CarrierDelay</th>\n",
       "      <th>WeatherDelay</th>\n",
       "      <th>NASDelay</th>\n",
       "      <th>SecurityDelay</th>\n",
       "      <th>LateAircraftDelay</th>\n",
       "    </tr>\n",
       "  </thead>\n",
       "  <tbody>\n",
       "    <tr>\n",
       "      <th>0</th>\n",
       "      <td>1996</td>\n",
       "      <td>1</td>\n",
       "      <td>29</td>\n",
       "      <td>1</td>\n",
       "      <td>2039.0</td>\n",
       "      <td>1930</td>\n",
       "      <td>2245.0</td>\n",
       "      <td>2139</td>\n",
       "      <td>DL</td>\n",
       "      <td>345</td>\n",
       "      <td>...</td>\n",
       "      <td>6</td>\n",
       "      <td>10</td>\n",
       "      <td>0</td>\n",
       "      <td>NaN</td>\n",
       "      <td>0</td>\n",
       "      <td>NaN</td>\n",
       "      <td>NaN</td>\n",
       "      <td>NaN</td>\n",
       "      <td>NaN</td>\n",
       "      <td>NaN</td>\n",
       "    </tr>\n",
       "    <tr>\n",
       "      <th>1</th>\n",
       "      <td>1996</td>\n",
       "      <td>1</td>\n",
       "      <td>30</td>\n",
       "      <td>2</td>\n",
       "      <td>1931.0</td>\n",
       "      <td>1930</td>\n",
       "      <td>2142.0</td>\n",
       "      <td>2139</td>\n",
       "      <td>DL</td>\n",
       "      <td>345</td>\n",
       "      <td>...</td>\n",
       "      <td>5</td>\n",
       "      <td>22</td>\n",
       "      <td>0</td>\n",
       "      <td>NaN</td>\n",
       "      <td>0</td>\n",
       "      <td>NaN</td>\n",
       "      <td>NaN</td>\n",
       "      <td>NaN</td>\n",
       "      <td>NaN</td>\n",
       "      <td>NaN</td>\n",
       "    </tr>\n",
       "    <tr>\n",
       "      <th>2</th>\n",
       "      <td>1996</td>\n",
       "      <td>1</td>\n",
       "      <td>31</td>\n",
       "      <td>3</td>\n",
       "      <td>1956.0</td>\n",
       "      <td>1930</td>\n",
       "      <td>2231.0</td>\n",
       "      <td>2139</td>\n",
       "      <td>DL</td>\n",
       "      <td>345</td>\n",
       "      <td>...</td>\n",
       "      <td>7</td>\n",
       "      <td>27</td>\n",
       "      <td>0</td>\n",
       "      <td>NaN</td>\n",
       "      <td>0</td>\n",
       "      <td>NaN</td>\n",
       "      <td>NaN</td>\n",
       "      <td>NaN</td>\n",
       "      <td>NaN</td>\n",
       "      <td>NaN</td>\n",
       "    </tr>\n",
       "    <tr>\n",
       "      <th>3</th>\n",
       "      <td>1996</td>\n",
       "      <td>1</td>\n",
       "      <td>1</td>\n",
       "      <td>1</td>\n",
       "      <td>1730.0</td>\n",
       "      <td>1550</td>\n",
       "      <td>1909.0</td>\n",
       "      <td>1745</td>\n",
       "      <td>DL</td>\n",
       "      <td>411</td>\n",
       "      <td>...</td>\n",
       "      <td>4</td>\n",
       "      <td>14</td>\n",
       "      <td>0</td>\n",
       "      <td>NaN</td>\n",
       "      <td>0</td>\n",
       "      <td>NaN</td>\n",
       "      <td>NaN</td>\n",
       "      <td>NaN</td>\n",
       "      <td>NaN</td>\n",
       "      <td>NaN</td>\n",
       "    </tr>\n",
       "    <tr>\n",
       "      <th>4</th>\n",
       "      <td>1996</td>\n",
       "      <td>1</td>\n",
       "      <td>2</td>\n",
       "      <td>2</td>\n",
       "      <td>1714.0</td>\n",
       "      <td>1550</td>\n",
       "      <td>1841.0</td>\n",
       "      <td>1745</td>\n",
       "      <td>DL</td>\n",
       "      <td>411</td>\n",
       "      <td>...</td>\n",
       "      <td>4</td>\n",
       "      <td>8</td>\n",
       "      <td>0</td>\n",
       "      <td>NaN</td>\n",
       "      <td>0</td>\n",
       "      <td>NaN</td>\n",
       "      <td>NaN</td>\n",
       "      <td>NaN</td>\n",
       "      <td>NaN</td>\n",
       "      <td>NaN</td>\n",
       "    </tr>\n",
       "  </tbody>\n",
       "</table>\n",
       "<p>5 rows × 29 columns</p>\n",
       "</div>"
      ],
      "text/plain": [
       "   Year  Month  DayofMonth  DayOfWeek  DepTime  CRSDepTime  ArrTime  \\\n",
       "0  1996      1          29          1   2039.0        1930   2245.0   \n",
       "1  1996      1          30          2   1931.0        1930   2142.0   \n",
       "2  1996      1          31          3   1956.0        1930   2231.0   \n",
       "3  1996      1           1          1   1730.0        1550   1909.0   \n",
       "4  1996      1           2          2   1714.0        1550   1841.0   \n",
       "\n",
       "   CRSArrTime UniqueCarrier  FlightNum  ... TaxiIn  TaxiOut  Cancelled  \\\n",
       "0        2139            DL        345  ...      6       10          0   \n",
       "1        2139            DL        345  ...      5       22          0   \n",
       "2        2139            DL        345  ...      7       27          0   \n",
       "3        1745            DL        411  ...      4       14          0   \n",
       "4        1745            DL        411  ...      4        8          0   \n",
       "\n",
       "   CancellationCode  Diverted  CarrierDelay WeatherDelay NASDelay  \\\n",
       "0               NaN         0           NaN          NaN      NaN   \n",
       "1               NaN         0           NaN          NaN      NaN   \n",
       "2               NaN         0           NaN          NaN      NaN   \n",
       "3               NaN         0           NaN          NaN      NaN   \n",
       "4               NaN         0           NaN          NaN      NaN   \n",
       "\n",
       "   SecurityDelay  LateAircraftDelay  \n",
       "0            NaN                NaN  \n",
       "1            NaN                NaN  \n",
       "2            NaN                NaN  \n",
       "3            NaN                NaN  \n",
       "4            NaN                NaN  \n",
       "\n",
       "[5 rows x 29 columns]"
      ]
     },
     "execution_count": 38,
     "metadata": {},
     "output_type": "execute_result"
    }
   ],
   "source": [
    "## More on flights\n",
    "flight_df.head() \n",
    "\n"
   ]
  },
  {
   "cell_type": "markdown",
   "metadata": {},
   "source": [
    "Ok, so we've now looked at the columns in each dataset and can see that we'll need three tables relaations between:\n",
    "- `flight.Origin`, `flight.Destination` to `airports.iata`\n",
    "- `flight.UniqueCarrier` to `carrier.Code`\n",
    "\n",
    "Now lets get the tables created in SQL:"
   ]
  },
  {
   "cell_type": "markdown",
   "metadata": {},
   "source": [
    "\n",
    "### Create Flight Data Database\n",
    "The database in the .env file is just an entry point. We are going to now create new database and load in our flight data.\n",
    "\n",
    "#### Create database connection"
   ]
  },
  {
   "cell_type": "code",
   "execution_count": null,
   "metadata": {},
   "outputs": [],
   "source": [
    "### Create Database\n",
    "\n",
    "\n",
    "# Create database if it doesn't exist already\n",
    "sql = f'''--sql\n",
    "SELECT 'CREATE DATABASE {DATABASE_NAME}'\n",
    "WHERE NOT EXISTS (SELECT FROM pg_database WHERE datname = '{DATABASE_NAME}');\n",
    "'''\n",
    "\n",
    "conn = DBConn()\n",
    "result = conn.exec(sql)\n",
    "print(\"Database created successfully or already exists....\")\n",
    "DBConn.set_database(DATABASE_NAME)\n",
    "conn.close()\n"
   ]
  },
  {
   "cell_type": "markdown",
   "metadata": {},
   "source": [
    "## Create Tables"
   ]
  },
  {
   "cell_type": "code",
   "execution_count": null,
   "metadata": {},
   "outputs": [],
   "source": [
    "## Create Airport Table\n",
    "conn = DBConn()\n",
    "print('accessing', conn.get_database())\n",
    "sql = f'''--sql\n",
    "--DROP TABLE flights;\n",
    "--DROP TABLE carriers;\n",
    "--DROP TABLE airports;\n",
    "\n",
    "--sql --comment included for code highlighting in IDE\n",
    " CREATE TABLE IF NOT EXISTS carriers (\n",
    "    \"Code\" VARCHAR(7) NOT NULL,\n",
    "    \"Description\" VARCHAR(100),\n",
    "    CONSTRAINT carriers_pkey PRIMARY KEY (\"Code\")\n",
    ");\n",
    "\n",
    "--sql \n",
    "CREATE TABLE IF NOT EXISTS airports (\n",
    "    iata VARCHAR(4) NOT NULL,\n",
    "    airport VARCHAR(50) NOT NULL,\n",
    "    city VARCHAR(40),\n",
    "    state CHAR(2),\n",
    "    country VARCHAR(40) NOT NULL,\n",
    "    lat DOUBLE PRECISION NOT NULL,\n",
    "    long DOUBLE PRECISION NOT NULL,\n",
    "    CONSTRAINT airport_pkey PRIMARY KEY (iata)\n",
    ");\n",
    "\n",
    "CREATE TABLE IF NOT EXISTS flights (\n",
    " \"Year\" SMALLINT NOT NULL,  \n",
    " \"Month\" SMALLINT NOT NULL,  \n",
    " \"DayofMonth\" SMALLINT NOT NULL,  \n",
    " \"DayOfWeek\" SMALLINT NOT NULL,  \n",
    " \"DepTime\" SMALLINT,\n",
    " \"CRSDepTime\" SMALLINT NOT NULL,  \n",
    " \"ArrTime\" SMALLINT,\n",
    " \"CRSArrTime\" SMALLINT NOT NULL,  \n",
    " \"UniqueCarrier\" VARCHAR(6) NOT NULL,\n",
    " \"FlightNum\" SMALLINT NOT NULL,  \n",
    " \"ActualElapsedTime\" SMALLINT,\n",
    " \"CRSElapsedTime\" SMALLINT,  \n",
    " \"AirTime\" SMALLINT,\n",
    " \"ArrDelay\" SMALLINT,\n",
    " \"DepDelay\" SMALLINT,\n",
    " \"Origin\" VARCHAR(3) NOT NULL, \n",
    " \"Dest\" VARCHAR(3) NOT NULL, \n",
    " \"Distance\" INTEGER,\n",
    " \"TaxiIn\" SMALLINT,\n",
    " \"TaxiOut\" SMALLINT,\n",
    " \"Cancelled\" BOOLEAN NOT NULL,  \n",
    " \"CarrierDelay\" SMALLINT,\n",
    " \"WeatherDelay\" SMALLINT,\n",
    " \"NASDelay\" SMALLINT,\n",
    " \"SecurityDelay\" SMALLINT,\n",
    " \"LateAircraftDelay\" SMALLINT,\n",
    " \n",
    " -- Decided not going to need PK for this problem set. My computer is not very fast and less indexing = quicker upload\n",
    " -- I considered adding an ID column, but there aren't any problems that need a pk to solve. In a real situation, I'd always add one.\n",
    " -- PRIMARY KEY (\"Year\", \"Month\", \"DayofMonth\", \"UniqueCarrier\", \"CRSDepTime\", \"FlightNum\", \"Origin\", \"CRSArrTime\"),\n",
    "\n",
    " CONSTRAINT origin_airport_fk\n",
    "    FOREIGN KEY (\"Origin\")\n",
    "    REFERENCES airports(iata)\n",
    "    ON DELETE CASCADE,\n",
    "\n",
    " CONSTRAINT dest_airport_fk \n",
    "    FOREIGN KEY (\"Dest\")\n",
    "    REFERENCES airports(iata)\n",
    "    ON DELETE CASCADE,\n",
    "\n",
    " CONSTRAINT uniquecarrier_carriers_fk \n",
    "    FOREIGN KEY (\"UniqueCarrier\")\n",
    "    REFERENCES carriers(\"Code\")\n",
    "    ON DELETE CASCADE\n",
    "\n",
    ");\n",
    "'''\n",
    "conn.exec(sql)\n",
    "print('create successful or already created')\n",
    "conn.close()"
   ]
  },
  {
   "cell_type": "markdown",
   "metadata": {},
   "source": [
    "## Load Data\n",
    "This section loads data into the database we just created. Since I didn't use a pk, I was careful not to add duplicates. Data was uploaded from pandas in chunks of 20,000 rows. When the process crashed, it was pretty easy to figure out where from the output and restart in the correct spot. To speed things up, I duplicated the notebook and had a couple instances running and uploading different years. \n",
    "\n",
    "A COPY command would have been much faster, but I had already gotten the data cleaned in pandas. It wasn't a big deal to start it and let the task run overnight. "
   ]
  },
  {
   "cell_type": "markdown",
   "metadata": {},
   "source": [
    "### Airports and Carriers"
   ]
  },
  {
   "cell_type": "code",
   "execution_count": null,
   "metadata": {},
   "outputs": [],
   "source": [
    "## load carriers into databse\n",
    "\n",
    "load_carriers = False ## change to true to load\n",
    "if load_carriers:\n",
    "    engine = create_engine(\n",
    "        f'postgresql://{os.getenv(\"DB_USER\")}:{os.getenv(\"DB_PASS\")}@{os.getenv(\"DB_HOST\")}:{os.getenv(\"DB_PORT\")}/{DATABASE_NAME}'\n",
    "    )\n",
    "    carriers_df.to_sql(\n",
    "        'carriers', \n",
    "        engine, \n",
    "        if_exists='append', \n",
    "        index=False, \n",
    "        dtype={\"Code\":VARCHAR, \"Description\": VARCHAR})\n",
    "else:\n",
    "    print('Skipping upload')\n"
   ]
  },
  {
   "cell_type": "code",
   "execution_count": null,
   "metadata": {},
   "outputs": [],
   "source": [
    "## Load Airports into database\n",
    "\n",
    "load_airports = False ## change to true to load\n",
    "if load_airports:\n",
    "    engine = create_engine(\n",
    "        f'postgresql://{os.getenv(\"DB_USER\")}:{os.getenv(\"DB_PASS\")}@{os.getenv(\"DB_HOST\")}:{os.getenv(\"DB_PORT\")}/{DATABASE_NAME}'\n",
    "    )\n",
    "    airports_df.to_sql(\n",
    "        'airports', \n",
    "        engine, \n",
    "        if_exists='append', \n",
    "        index=False, \n",
    "        dtype={\n",
    "            \"iata\": VARCHAR, \n",
    "            \"airport\": VARCHAR,\n",
    "            \"city\": VARCHAR,\n",
    "            \"state\": CHAR,\n",
    "            \"country\": VARCHAR,\n",
    "            \"lat\": DOUBLE_PRECISION(),\n",
    "            \"long\": DOUBLE_PRECISION(),\n",
    "            })\n",
    "else:\n",
    "    print('Skipping upload')\n"
   ]
  },
  {
   "cell_type": "markdown",
   "metadata": {},
   "source": [
    "### Load Flight Data"
   ]
  },
  {
   "cell_type": "code",
   "execution_count": null,
   "metadata": {},
   "outputs": [],
   "source": [
    "## Load Flights into database\n",
    "\n",
    "load_flights=False ## change to true to load\n",
    "if load_flights:\n",
    "    engine = create_engine(\n",
    "        f'postgresql://{os.getenv(\"DB_USER\")}:{os.getenv(\"DB_PASS\")}@{os.getenv(\"DB_HOST\")}:{os.getenv(\"DB_PORT\")}/{DATABASE_NAME}'\n",
    "    )\n",
    "\n",
    "    #speeds up bulk import\n",
    "    @event.listens_for(engine, \"before_cursor_execute\")\n",
    "    def receive_before_cursor_execute(con, cursor, statement, params, context, executemany):\n",
    "        if executemany:\n",
    "            cursor.fast_executemany=True\n",
    "\n",
    "    for path_ in reversed(FLIGHT_DATA_PATHS):\n",
    "        name = os.path.basename(path_)\n",
    "        year = int(name.rstrip('.csv'))\n",
    "        \n",
    "        ## used to restart process after failure\n",
    "        # if year != 2008:\n",
    "        #     print(f\"skipping {name}\")\n",
    "        #     break\n",
    "        print(f'uploading {name} at {datetime.datetime.now()}')\n",
    "\n",
    "\n",
    "        for chunk_num, chunk in enumerate(pd.read_csv(\n",
    "            path_, chunksize=20000,encoding='ascii',dtype={\n",
    "                \"Year\": 'int16',  \n",
    "                \"Month\": 'int8',  \n",
    "                \"DayofMonth\": 'int8',  \n",
    "                \"DayOfWeek\": 'int8',  \n",
    "                \"DepTime\": 'float64',\n",
    "                \"CRSDepTime\": 'int16',  \n",
    "                \"ArrTime\": 'float64',\n",
    "                \"CRSArrTime\": 'int16',  \n",
    "                \"UniqueCarrier\": 'string',\n",
    "                \"FlightNum\": 'int16',  \n",
    "                \"ActualElapsedTime\": 'float64',\n",
    "                \"CRSElapsedTime\": 'float64',  \n",
    "                \"AirTime\": 'float64',\n",
    "                \"ArrDelay\": 'float64',\n",
    "                \"DepDelay\": 'float64',\n",
    "                \"Origin\": 'string', \n",
    "                \"Dest\": 'string', \n",
    "                \"Distance\": 'float64',\n",
    "                \"TaxiIn\": 'float64',\n",
    "                \"TaxiOut\": 'float64',\n",
    "                \"Cancelled\": 'int8',  \n",
    "                \"CarrierDelay\": 'float64',\n",
    "                \"WeatherDelay\": 'float64',\n",
    "                \"NASDelay\": 'float64',\n",
    "                \"SecurityDelay\": 'float64',\n",
    "                \"LateAircraftDelay\": 'float64',\n",
    "            })):\n",
    "\n",
    "            ## used to restart  in correct place after failure\n",
    "            # if year == 2004:\n",
    "            #     if chunk_num<104:\n",
    "            #         continue\n",
    "            \n",
    "            # if year == 2007:\n",
    "            #     if chunk_num!=235:\n",
    "            #         print(f'skipping chunk {chunk_num}')\n",
    "            #         continue\n",
    "            task_start = datetime.datetime.now()\n",
    "            print(f'working on chunk {chunk_num} at {task_start}')\n",
    "            chunk = chunk.drop(['TailNum','CancellationCode','Diverted'], axis=1)\n",
    "            chunk.to_sql(\n",
    "                'flights', \n",
    "                engine, \n",
    "                if_exists='append', \n",
    "                index=False,\n",
    "                method=\"multi\",\n",
    "                dtype={\n",
    "                    \"Year\": SMALLINT,  \n",
    "                    \"Month\": SMALLINT,  \n",
    "                    \"DayofMonth\": SMALLINT,  \n",
    "                    \"DayOfWeek\": SMALLINT,  \n",
    "                    \"DepTime\": SMALLINT,\n",
    "                    \"CRSDepTime\": SMALLINT,  \n",
    "                    \"ArrTime\": SMALLINT,\n",
    "                    \"CRSArrTime\": SMALLINT,  \n",
    "                    \"UniqueCarrier\": VARCHAR,\n",
    "                    \"FlightNum\": SMALLINT,  \n",
    "                    \"ActualElapsedTime\": SMALLINT,\n",
    "                    \"CRSElapsedTime\": SMALLINT,  \n",
    "                    \"AirTime\": SMALLINT,\n",
    "                    \"ArrDelay\": SMALLINT,\n",
    "                    \"DepDelay\": SMALLINT,\n",
    "                    \"Origin\": VARCHAR, \n",
    "                    \"Dest\": VARCHAR, \n",
    "                    \"Distance\": SMALLINT,\n",
    "                    \"TaxiIn\": SMALLINT,\n",
    "                    \"TaxiOut\": SMALLINT,\n",
    "                    \"Cancelled\": BOOLEAN,  \n",
    "                    \"CarrierDelay\": SMALLINT,\n",
    "                    \"WeatherDelay\": SMALLINT,\n",
    "                    \"NASDelay\": SMALLINT,\n",
    "                    \"SecurityDelay\": SMALLINT,\n",
    "                    \"LateAircraftDelay\": SMALLINT,\n",
    "                    })\n",
    "        complete_in = datetime.datetime.now()-task_start\n",
    "        print(f'complete in {complete_in.seconds} seconds')\n",
    "else:\n",
    "    print('Skipping upload')"
   ]
  },
  {
   "cell_type": "markdown",
   "metadata": {},
   "source": [
    "## Problem Set"
   ]
  },
  {
   "cell_type": "markdown",
   "metadata": {},
   "source": [
    "#### Problem 1:\tWhat percentage of flights were canceled each year from 1999 to 2003?"
   ]
  },
  {
   "cell_type": "markdown",
   "metadata": {},
   "source": [
    "##### Code"
   ]
  },
  {
   "cell_type": "code",
   "execution_count": 43,
   "metadata": {},
   "outputs": [
    {
     "name": "stdout",
     "output_type": "stream",
     "text": [
      "connection opened ...\n",
      "... connection closed.\n",
      "| Cancelled Flights | Total Flights | Percent Cancelled |\n",
      "| ----------------- | ------------- | ----------------- |\n",
      "| 739611            | 28938610      | 2.556             |\n",
      "\n"
     ]
    }
   ],
   "source": [
    "conn = DBConn()\n",
    "q = \"\"\"\n",
    "--sql\n",
    "SELECT \n",
    "    count_cancelled,\n",
    "    total,\n",
    "    (count_cancelled/total::FLOAT)*100 perc_cancelled\n",
    "FROM (\n",
    "    SELECT \n",
    "        Count(*) total, \n",
    "        SUM(CASE WHEN \"Cancelled\" THEN 1 ELSE 0 END) count_cancelled\n",
    "    FROM flights\n",
    "    WHERE \"Year\" >= 1999 AND \"Year\" <= 2003\n",
    ") x;\n",
    "\"\"\"\n",
    "ans[1] = conn.exec(q)\n",
    "head[1] = ['Cancelled Flights','Total Flights', 'Percent Cancelled']\n",
    "conn.close()\n",
    "print(make_table(head[1], ans[1], round_cols=[2]))"
   ]
  },
  {
   "cell_type": "markdown",
   "metadata": {},
   "source": [
    "##### Answer"
   ]
  },
  {
   "cell_type": "markdown",
   "metadata": {},
   "source": [
    "\n",
    "| Cancelled Flights | Total Flights | Percent Cancelled |\n",
    "| ----------------- | ------------- | ----------------- |\n",
    "| 739611            | 28938610      | 2.556             |"
   ]
  },
  {
   "cell_type": "markdown",
   "metadata": {},
   "source": [
    "#### Problem 2: On which day of the week in 2007 were you most likely to arrive on time flying from MCO to IAH"
   ]
  },
  {
   "cell_type": "markdown",
   "metadata": {},
   "source": [
    "##### Code"
   ]
  },
  {
   "cell_type": "code",
   "execution_count": 44,
   "metadata": {},
   "outputs": [
    {
     "name": "stdout",
     "output_type": "stream",
     "text": [
      "connection opened ...\n",
      "| Week Day | On Time Flights | Total Flights | Percent On Time  |\n",
      "| -------- | --------------- | ------------- | ---------------- |\n",
      "| 1        | 134             | 377           | 35.544           |\n",
      "| 2        | 130             | 346           | 37.572           |\n",
      "| 3        | 161             | 351           | 45.869           |\n",
      "| 4        | 184             | 390           | 47.179           |\n",
      "| 5        | 175             | 398           | 43.97            |\n",
      "| 6        | 140             | 377           | 37.135           |\n",
      "| 7        | 152             | 405           | 37.531           |\n",
      "\n",
      "... connection closed.\n"
     ]
    }
   ],
   "source": [
    "conn = DBConn()\n",
    "q = \"\"\"\n",
    "--sql\n",
    "SELECT\n",
    "\t\"DayOfWeek\",\n",
    "\ton_time_count,\n",
    "\ttotal_flights,\n",
    "\t(on_time_count/total_flights::FLOAT)*100 percent_ontime\n",
    "FROM\n",
    "(SELECT \n",
    "\t\"DayOfWeek\",\n",
    "\tSUM(CASE WHEN \"CRSArrTime\" <= \"ArrTime\" THEN 1 ELSE 0 END) on_time_count,\n",
    "\tCOUNT(*) total_flights\n",
    "FROM flights\n",
    "WHERE \"Year\" = 2007 AND \"Origin\" = 'MCO' AND \"Dest\" = 'IAH'\n",
    "GROUP BY \"DayOfWeek\"\n",
    ") x;\n",
    "\"\"\"\n",
    "ans[2] = conn.exec(q)\n",
    "head[2] = ['Week Day', 'On Time Flights', 'Total Flights', 'Percent On Time']\n",
    "print(make_table(head[2], ans[2], round_cols=[3]))\n",
    "conn.close()"
   ]
  },
  {
   "cell_type": "markdown",
   "metadata": {},
   "source": [
    "##### Answer"
   ]
  },
  {
   "cell_type": "markdown",
   "metadata": {},
   "source": [
    "\n",
    "| Week Day  | On Time Flights | Total Flights | Percent On Time  |\n",
    "| --------- | --------------- | ------------- | ---------------- |\n",
    "| 1 (Mon)   | 134             | 377           | 35.544           |\n",
    "| 2 (Tue)   | 130             | 346           | 37.572           |\n",
    "| 3 (Wed)   | 161             | 351           | 45.869           |\n",
    "|**4 (Thu)**| **184**         | **390**       | **47.179**       |\n",
    "| 5 (Fri)   | 175             | 398           | 43.97            |\n",
    "| 6 (Sat)   | 140             | 377           | 37.135           |\n",
    "| 7 (Sun)   | 152             | 405           | 37.531           |"
   ]
  },
  {
   "cell_type": "markdown",
   "metadata": {},
   "source": [
    "#### Problem 3.\tWhich 10 flights (airline, flight number, origin city, destination city, and date) had the latest actual vs. scheduled arrival in 2004?\n"
   ]
  },
  {
   "cell_type": "markdown",
   "metadata": {},
   "source": [
    "##### Code"
   ]
  },
  {
   "cell_type": "code",
   "execution_count": 45,
   "metadata": {},
   "outputs": [
    {
     "name": "stdout",
     "output_type": "stream",
     "text": [
      "connection opened ...\n",
      "| Airline iata | Airline                 | Flight Number | Origin City     | Dest City   | Arrival Time | Scheduled Arrival | Arrival Delay | Date       |\n",
      "| ------------ | ----------------------- | ------------- | --------------- | ----------- | ------------ | ----------------- | ------------- | ---------- |\n",
      "| NW           | Northwest Airlines Inc. | 891           | West Palm Beach | Detroit     | 1109         | 1551              | 2598          | 3/10/2007  |\n",
      "| 9E           | Pinnacle Airlines Inc.  | 4714          | Waterloo        | Minneapolis | 1627         | 805               | 1942          | 1/12/2007  |\n",
      "| NW           | Northwest Airlines Inc. | 808           | Honolulu        | Minneapolis | 1244         | 556               | 1848          | 2/10/2007  |\n",
      "| 9E           | Pinnacle Airlines Inc.  | 3743          | Fort Wayne      | Detroit     | 1340         | 905               | 1715          | 28/10/2007 |\n",
      "| NW           | Northwest Airlines Inc. | 862           | Fairbanks       | Minneapolis | 2110         | 1725              | 1665          | 1/9/2007   |\n",
      "| NW           | Northwest Airlines Inc. | 966           | Pittsburgh      | Detroit     | 1124         | 749               | 1655          | 28/9/2007  |\n",
      "| NW           | Northwest Airlines Inc. | 189           | Madison         | Minneapolis | 1130         | 758               | 1652          | 23/12/2007 |\n",
      "| NW           | Northwest Airlines Inc. | 549           | New York        | Minneapolis | 1539         | 1335              | 1564          | 16/3/2007  |\n",
      "| 9E           | Pinnacle Airlines Inc.  | 2925          | Austin          | Detroit     | 1424         | 1250              | 1534          | 30/9/2007  |\n",
      "| NW           | Northwest Airlines Inc. | 1592          | Houston         | Memphis     | 1455         | 1323              | 1532          | 5/9/2007   |\n",
      "\n",
      "... connection closed.\n"
     ]
    }
   ],
   "source": [
    "conn = DBConn()\n",
    "q = \"\"\"\n",
    "--sql\n",
    "SELECT\n",
    "\t\"UniqueCarrier\",  -- included to make join in tableau when exported\n",
    "\tc.\"Description\" AS \"Airline\",\n",
    "\t\"FlightNum\" AS \"Flight Number\",\n",
    "\toa.city AS \"Origin City\",\n",
    "\tda.city AS \"Dest City\",\n",
    "\t\"ArrTime\" AS \"Arrival Time\",\n",
    "\t\"CRSArrTime\" AS \"Scheduled Arrival\",\n",
    "\t\"ArrDelay\" as \"Arrival Delay\",\n",
    "\tCONCAT(\"DayofMonth\",'/',\"Month\",'/',\"Year\") AS \"Date\"\n",
    "FROM flights\n",
    "INNER JOIN carriers AS C\n",
    "ON flights.\"UniqueCarrier\" = c.\"Code\"\n",
    "INNER JOIN airports as da\n",
    "ON flights.\"Dest\" = da.iata\n",
    "INNER JOIN airports as oa\n",
    "ON flights.\"Origin\" = oa.iata\n",
    "WHERE \"Year\" = 2007 AND\n",
    "\t\"ArrDelay\" > 0 AND\n",
    "\t\"ArrTime\" IS NOT NULL AND \n",
    "\t\"CRSArrTime\" IS NOT NULL\n",
    "ORDER BY \"ArrDelay\" DESC\n",
    "LIMIT 10\n",
    ";\n",
    "\"\"\"\n",
    "ans[3] = conn.exec(q)\n",
    "head[3] = [\"Airline iata\", \"Airline\",\"Flight Number\", \"Origin City\", \"Dest City\",\"Arrival Time\",\"Scheduled Arrival\",\"Arrival Delay\",\"Date\"]\n",
    "print(make_table(head[3],ans[3]))\n",
    "conn.close()"
   ]
  },
  {
   "cell_type": "markdown",
   "metadata": {},
   "source": [
    "##### Answer"
   ]
  },
  {
   "cell_type": "markdown",
   "metadata": {},
   "source": [
    "| Airline                 | Flight Number | Origin City     | Dest City   | Arrival Time | Scheduled Arrival | Arrival Delay | Date       |\n",
    "| ----------------------- | ------------- | --------------- | ----------- | ------------ | ----------------- | ------------- | ---------- |\n",
    "| Northwest Airlines Inc. | 891           | West Palm Beach | Detroit     | 1109         | 1551              | 2598          | 3/10/2007  |\n",
    "| Pinnacle Airlines Inc.  | 4714          | Waterloo        | Minneapolis | 1627         | 805               | 1942          | 1/12/2007  |\n",
    "| Northwest Airlines Inc. | 808           | Honolulu        | Minneapolis | 1244         | 556               | 1848          | 2/10/2007  |\n",
    "| Pinnacle Airlines Inc.  | 3743          | Fort Wayne      | Detroit     | 1340         | 905               | 1715          | 28/10/2007 |\n",
    "| Northwest Airlines Inc. | 862           | Fairbanks       | Minneapolis | 2110         | 1725              | 1665          | 1/9/2007   |\n",
    "| Northwest Airlines Inc. | 966           | Pittsburgh      | Detroit     | 1124         | 749               | 1655          | 28/9/2007  |\n",
    "| Northwest Airlines Inc. | 189           | Madison         | Minneapolis | 1130         | 758               | 1652          | 23/12/2007 |\n",
    "| Northwest Airlines Inc. | 549           | New York        | Minneapolis | 1539         | 1335              | 1564          | 16/3/2007  |\n",
    "| Pinnacle Airlines Inc.  | 2925          | Austin          | Detroit     | 1424         | 1250              | 1534          | 30/9/2007  |\n",
    "| Northwest Airlines Inc. | 1592          | Houston         | Memphis     | 1455         | 1323              | 1532          | 5/9/2007   |\n",
    "\n",
    "*Not looking good for Northwest Airlines...*"
   ]
  },
  {
   "cell_type": "markdown",
   "metadata": {},
   "source": [
    "#### Problem 4.\tFor each year from 1987 to 2008, which airline made the trip between ORD and LAX the fastest (on average)?"
   ]
  },
  {
   "cell_type": "markdown",
   "metadata": {},
   "source": [
    "##### Code"
   ]
  },
  {
   "cell_type": "code",
   "execution_count": 46,
   "metadata": {},
   "outputs": [
    {
     "name": "stdout",
     "output_type": "stream",
     "text": [
      "connection opened ...\n",
      "| Year | iata | Airline                | Trip Time            |\n",
      "| ---- | ---- | ---------------------- | -------------------- |\n",
      "| 1987 | UA   | United Air Lines Inc.  | 250                  |\n",
      "| 1988 | AA   | American Airlines Inc. | 262                  |\n",
      "| 1989 | AA   | American Airlines Inc. | 266                  |\n",
      "| 1990 | UA   | United Air Lines Inc.  | 263                  |\n",
      "| 1991 | UA   | United Air Lines Inc.  | 265                  |\n",
      "| 1992 | AA   | American Airlines Inc. | 265                  |\n",
      "| 1993 | AA   | American Airlines Inc. | 268                  |\n",
      "| 1994 | UA   | United Air Lines Inc.  | 258                  |\n",
      "| 1995 | UA   | United Air Lines Inc.  | 261                  |\n",
      "| 1996 | UA   | United Air Lines Inc.  | 271                  |\n",
      "| 1997 | UA   | United Air Lines Inc.  | 276                  |\n",
      "| 1998 | UA   | United Air Lines Inc.  | 267                  |\n",
      "| 1999 | UA   | United Air Lines Inc.  | 283                  |\n",
      "| 2000 | UA   | United Air Lines Inc.  | 289                  |\n",
      "| 2001 | UA   | United Air Lines Inc.  | 278                  |\n",
      "| 2002 | UA   | United Air Lines Inc.  | 269                  |\n",
      "| 2003 | UA   | United Air Lines Inc.  | 274                  |\n",
      "| 2004 | UA   | United Air Lines Inc.  | 275                  |\n",
      "| 2005 | AA   | American Airlines Inc. | 275                  |\n",
      "| 2006 | UA   | United Air Lines Inc.  | 273                  |\n",
      "| 2007 | AA   | American Airlines Inc. | 272                  |\n",
      "| 2008 | AA   | American Airlines Inc. | 274                  |\n",
      "\n",
      "... connection closed.\n"
     ]
    }
   ],
   "source": [
    "### I'm interpreting this question as from ORD to LAX OR LAX to ORD, but the query can be modified to only include one direction by modifying the WHERE statement in CTE1 as follows:\n",
    "## WHERE \"Origin\" = 'ORD' AND \"Dest\" = 'LAX'\n",
    "conn = DBConn()\n",
    "q = \"\"\"\n",
    "--sql\n",
    "--First CTE returns row with average trip time per airline per year\n",
    "WITH cte1 AS (\n",
    "\tSELECT DISTINCT\n",
    "\t\t\"Year\",\n",
    "\t\t\"UniqueCarrier\",  -- included to make join in tableau when exported\n",
    "\t\tAVG(\"ActualElapsedTime\") OVER (\n",
    "\t\t\tPARTITION BY \"UniqueCarrier\", \"Year\"\n",
    "\t\t\t) AS avg_time\n",
    "\tFROM flights\n",
    "\tWHERE (\"Origin\" = 'ORD' AND \"Dest\" = 'LAX') OR (\"Origin\" = 'LAX' AND \"Dest\" = 'ORD')\n",
    "\tGROUP BY \"Year\", \"UniqueCarrier\", \"ActualElapsedTime\"),\n",
    "\n",
    "--Second CTE adds rank to first\n",
    "cte2 AS (\n",
    "\tSELECT\n",
    "\t\t\"Year\",\n",
    "\t\t\"UniqueCarrier\",\n",
    "\t\tavg_time,\n",
    "\t\trank() OVER (PARTITION BY \"Year\" ORDER BY avg_time) AS annual_rank\n",
    "\t\n",
    "\tFROM cte1)\n",
    "\n",
    "--Filter to only include top rank\n",
    "SELECT\n",
    "\t\"Year\",\n",
    "\t\"UniqueCarrier\",\n",
    "\tcarriers.\"Description\",\n",
    "\tavg_time\n",
    "\t\n",
    "FROM cte2\n",
    "INNER JOIN carriers\n",
    "ON cte2.\"UniqueCarrier\" = carriers.\"Code\"\n",
    "WHERE annual_rank = 1\n",
    "ORDER BY \"Year\"\n",
    ";\n",
    "\n",
    "\n",
    "\"\"\"\n",
    "ans[4] = conn.exec(q)\n",
    "head[4] = [\"Year\",\"iata\",\"Airline\",\"Trip Time\"]\n",
    "print(make_table(head[4],ans[4], round_cols=[3], round_to=0))\n",
    "conn.close()"
   ]
  },
  {
   "cell_type": "markdown",
   "metadata": {},
   "source": [
    "##### Answer"
   ]
  },
  {
   "cell_type": "markdown",
   "metadata": {},
   "source": [
    "\n",
    "| Year | Airline                | Trip Time            |\n",
    "| ---- | ---------------------- | -------------------- |\n",
    "| 1987 | United Air Lines Inc.  | 250                  |\n",
    "| 1988 | American Airlines Inc. | 262                  |\n",
    "| 1989 | American Airlines Inc. | 266                  |\n",
    "| 1990 | United Air Lines Inc.  | 263                  |\n",
    "| 1991 | United Air Lines Inc.  | 265                  |\n",
    "| 1992 | American Airlines Inc. | 265                  |\n",
    "| 1993 | American Airlines Inc. | 268                  |\n",
    "| 1994 | United Air Lines Inc.  | 258                  |\n",
    "| 1995 | United Air Lines Inc.  | 261                  |\n",
    "| 1996 | United Air Lines Inc.  | 271                  |\n",
    "| 1997 | United Air Lines Inc.  | 276                  |\n",
    "| 1998 | United Air Lines Inc.  | 267                  |\n",
    "| 1999 | United Air Lines Inc.  | 283                  |\n",
    "| 2000 | United Air Lines Inc.  | 289                  |\n",
    "| 2001 | United Air Lines Inc.  | 278                  |\n",
    "| 2002 | United Air Lines Inc.  | 269                  |\n",
    "| 2003 | United Air Lines Inc.  | 274                  |\n",
    "| 2004 | United Air Lines Inc.  | 275                  |\n",
    "| 2005 | American Airlines Inc. | 275                  |\n",
    "| 2006 | United Air Lines Inc.  | 273                  |\n",
    "| 2007 | American Airlines Inc. | 272                  |\n",
    "| 2008 | American Airlines Inc. | 274                  |"
   ]
  },
  {
   "cell_type": "markdown",
   "metadata": {},
   "source": [
    "#### Problem 5.\tFor the years 2002 to 2005, what is the ratio of carrier delay to elapsed travel time for each airline?"
   ]
  },
  {
   "cell_type": "markdown",
   "metadata": {},
   "source": [
    "##### Code"
   ]
  },
  {
   "cell_type": "code",
   "execution_count": 47,
   "metadata": {},
   "outputs": [
    {
     "name": "stdout",
     "output_type": "stream",
     "text": [
      "connection opened ...\n",
      "| iata | Airline                                                                             | Total Flights | Carrier Delay: Scheduled Flight Time |\n",
      "| ---- | ----------------------------------------------------------------------------------- | ------------- | ------------------------------------ |\n",
      "| EV   | Atlantic Southeast Airlines                                                         | 857220        | 3.93                                 |\n",
      "| OH   | Comair Inc.                                                                         | 754683        | 3.9                                  |\n",
      "| OO   | Skywest Airlines Inc.                                                               | 1377703       | 3.65                                 |\n",
      "| MQ   | American Eagle Airlines Inc.                                                        | 1884202       | 2.38                                 |\n",
      "| DH   | Independence Air                                                                    | 693047        | 2.22                                 |\n",
      "| AS   | Alaska Airlines Inc.                                                                | 645879        | 2.21                                 |\n",
      "| NW   | Northwest Airlines Inc.                                                             | 2000609       | 1.92                                 |\n",
      "| HA   | Hawaiian Airlines Inc.                                                              | 104091        | 1.87                                 |\n",
      "| XE   | Expressjet Airlines Inc.                                                            | 1099556       | 1.59                                 |\n",
      "| FL   | AirTran Airways Corporation                                                         | 502650        | 1.5                                  |\n",
      "| F9   | Frontier Airlines Inc.                                                              | 53255         | 1.5                                  |\n",
      "| HP   | America West Airlines Inc. (Merged with US Airways 9/05. Stopped reporting 10/07.)  | 779422        | 1.37                                 |\n",
      "| DL   | Delta Air Lines Inc.                                                                | 2735315       | 1.21                                 |\n",
      "| US   | US Airways Inc. (Merged with America West 9/05. Reporting for both starting 10/07.) | 1769148       | 1.15                                 |\n",
      "| AA   | American Airlines Inc.                                                              | 2976797       | 1.09                                 |\n",
      "| TZ   | ATA Airlines d/b/a ATA                                                              | 188818        | 1.01                                 |\n",
      "| WN   | Southwest Airlines Co.                                                              | 3941749       | 1.0                                  |\n",
      "| B6   | JetBlue Airways                                                                     | 268068        | 0.99                                 |\n",
      "| UA   | United Air Lines Inc.                                                               | 2173574       | 0.99                                 |\n",
      "| CO   | Continental Air Lines Inc.                                                          | 1223978       | 0.75                                 |\n",
      "\n",
      "... connection closed.\n"
     ]
    }
   ],
   "source": [
    "conn = DBConn()\n",
    "q = \"\"\"\n",
    "--sql\n",
    "SELECT\n",
    "\t\"UniqueCarrier\", -- included to make join in tableau when exported\n",
    "\tcarriers.\"Description\",\n",
    "\ttotal_flights,\n",
    " \t--(carrier_delay/actual_travel_time::FLOAT)*100 carrier_delay_to_actual_travel_time, --I chose to omit this, since it's like double counting the delay time\n",
    " \t(carrier_delay/scheduled_travel_time::FLOAT)*100 carrier_delay_to_scheduled_travel_time\n",
    "FROM(\n",
    "\tSELECT\n",
    "\t\t\"UniqueCarrier\",\n",
    "\t\tcount(*) total_flights,\n",
    "\t\tsum(COALESCE(\"CarrierDelay\",0)) carrier_delay,\n",
    "\t\t--sum(\"ActualElapsedTime\") actual_travel_time,\n",
    "\t\tsum(\"CRSElapsedTime\") scheduled_travel_time\n",
    "\tFROM flights\n",
    "\tWHERE \"Year\" >= 2002 AND\n",
    "\t\t\"Year\" <= 2005 AND \n",
    "\t\t--\"ActualElapsedTime\" IS NOT NULL AND \n",
    "\t\t\"CRSElapsedTime\" IS NOT NULL\n",
    "\tGROUP BY \"UniqueCarrier\"\n",
    " ) sub\n",
    " INNER JOIN carriers\n",
    " ON sub.\"UniqueCarrier\" = carriers.\"Code\"\n",
    " ORDER BY carrier_delay_to_scheduled_travel_time DESC\n",
    " ;\n",
    "\"\"\"\n",
    "ans[5] = conn.exec(q)\n",
    "head[5] = [\"iata\",\"Airline\", \"Total Flights\",\"Carrier Delay: Scheduled Flight Time\"]\n",
    "print(make_table(head[5],ans[5],round_cols=[3], round_to=2))\n",
    "conn.close()"
   ]
  },
  {
   "cell_type": "markdown",
   "metadata": {},
   "source": [
    "##### Answer"
   ]
  },
  {
   "cell_type": "markdown",
   "metadata": {},
   "source": [
    "| Airline                                                                             | Total Flights | Carrier Delay: Scheduled Flight Time |\n",
    "| ----------------------------------------------------------------------------------- | ------------- | ------------------------------------ |\n",
    "| Atlantic Southeast Airlines                                                         | 857220        | 3.93                                 |\n",
    "| Comair Inc.                                                                         | 754683        | 3.9                                  |\n",
    "| Skywest Airlines Inc.                                                               | 1377703       | 3.65                                 |\n",
    "| American Eagle Airlines Inc.                                                        | 1884202       | 2.38                                 |\n",
    "| Independence Air                                                                    | 693047        | 2.22                                 |\n",
    "| Alaska Airlines Inc.                                                                | 645879        | 2.21                                 |\n",
    "| Northwest Airlines Inc.                                                             | 2000609       | 1.92                                 |\n",
    "| Hawaiian Airlines Inc.                                                              | 104091        | 1.87                                 |\n",
    "| Expressjet Airlines Inc.                                                            | 1099556       | 1.59                                 |\n",
    "| AirTran Airways Corporation                                                         | 502650        | 1.5                                  |\n",
    "| Frontier Airlines Inc.                                                              | 53255         | 1.5                                  |\n",
    "| America West Airlines Inc. (Merged with US Airways 9/05. Stopped reporting 10/07.)  | 779422        | 1.37                                 |\n",
    "| Delta Air Lines Inc.                                                                | 2735315       | 1.21                                 |\n",
    "| US Airways Inc. (Merged with America West 9/05. Reporting for both starting 10/07.) | 1769148       | 1.15                                 |\n",
    "| American Airlines Inc.                                                              | 2976797       | 1.09                                 |\n",
    "| ATA Airlines d/b/a ATA                                                              | 188818        | 1.01                                 |\n",
    "| Southwest Airlines Co.                                                              | 3941749       | 1.0                                  |\n",
    "| JetBlue Airways                                                                     | 268068        | 0.99                                 |\n",
    "| United Air Lines Inc.                                                               | 2173574       | 0.99                                 |\n",
    "| Continental Air Lines Inc.                                                          | 1223978       | 0.75                                 |"
   ]
  },
  {
   "cell_type": "markdown",
   "metadata": {},
   "source": [
    "#### Problem 6.\tWhat airline spent the most and least average time taxiing (in and out) at JFK in 2006?"
   ]
  },
  {
   "cell_type": "markdown",
   "metadata": {},
   "source": [
    "##### Code"
   ]
  },
  {
   "cell_type": "code",
   "execution_count": 48,
   "metadata": {},
   "outputs": [
    {
     "name": "stdout",
     "output_type": "stream",
     "text": [
      "connection opened ...\n",
      "| iata | Carrier                                                                             | Total Flights | Average Taxi Time (min) |\n",
      "| ---- | ----------------------------------------------------------------------------------- | ------------- | ----------------------- |\n",
      "| XE   | Expressjet Airlines Inc.                                                            | 698           | 43                      |\n",
      "| CO   | Continental Air Lines Inc.                                                          | 1949          | 38                      |\n",
      "| EV   | Atlantic Southeast Airlines                                                         | 1020          | 38                      |\n",
      "| OH   | Comair Inc.                                                                         | 31594         | 37                      |\n",
      "| DL   | Delta Air Lines Inc.                                                                | 25517         | 37                      |\n",
      "| US   | US Airways Inc. (Merged with America West 9/05. Reporting for both starting 10/07.) | 5050          | 34                      |\n",
      "| NW   | Northwest Airlines Inc.                                                             | 3744          | 34                      |\n",
      "| AA   | American Airlines Inc.                                                              | 24681         | 34                      |\n",
      "| UA   | United Air Lines Inc.                                                               | 9797          | 31                      |\n",
      "| YV   | Mesa Airlines Inc.                                                                  | 4902          | 30                      |\n",
      "| B6   | JetBlue Airways                                                                     | 96604         | 30                      |\n",
      "| MQ   | American Eagle Airlines Inc.                                                        | 15271         | 30                      |\n",
      "| TZ   | ATA Airlines d/b/a ATA                                                              | 4             | 24                      |\n",
      "\n",
      "... connection closed.\n"
     ]
    }
   ],
   "source": [
    "## If you just want the max and min, this query can be modified to show max and min only using a CTE, subquery, or by changing the WHERE clause. I wanted to keep all rows for vis.\n",
    "conn = DBConn()\n",
    "q = \"\"\"\n",
    "--sql\n",
    "SELECT\n",
    "    \"UniqueCarrier\",\n",
    "\tcarriers.\"Description\",\n",
    "    COUNT(*) total_flights,\n",
    "\tAVG(\"TaxiIn\" +\"TaxiOut\") avg_taxi\n",
    "FROM flights\n",
    "INNER JOIN carriers\n",
    "ON flights.\"UniqueCarrier\" = carriers.\"Code\"\n",
    "WHERE \"Year\" = 2006 AND\n",
    "    \"TaxiIn\" IS NOT NULL AND \n",
    "    \"TaxiOut\" IS NOT NULL AND (\n",
    "        \"Dest\" = 'JFK' OR\n",
    "        \"Origin\" = 'JFK'\n",
    "    )\n",
    "        \n",
    "GROUP BY \"UniqueCarrier\", carriers.\"Description\"\n",
    "ORDER BY avg_taxi DESC\n",
    ";\n",
    "\"\"\"\n",
    "ans[6] = conn.exec(q)\n",
    "head[6]=['iata', 'Carrier','Total Flights','Average Taxi Time (min)']\n",
    "print(make_table(head[6],ans[6],round_cols=[3], round_to=0))\n",
    "conn.close()"
   ]
  },
  {
   "cell_type": "markdown",
   "metadata": {},
   "source": [
    "##### Answer"
   ]
  },
  {
   "cell_type": "markdown",
   "metadata": {},
   "source": [
    "| Carrier                                                                             | Total Flights | Average Taxi Time (min) |\n",
    "| ----------------------------------------------------------------------------------- | ------------- | ----------------------- |\n",
    "| Expressjet Airlines Inc.                                                            | 698           | 43                      |\n",
    "| Continental Air Lines Inc.                                                          | 1949          | 38                      |\n",
    "| Atlantic Southeast Airlines                                                         | 1020          | 38                      |\n",
    "| Comair Inc.                                                                         | 31594         | 37                      |\n",
    "| Delta Air Lines Inc.                                                                | 25517         | 37                      |\n",
    "| US Airways Inc. (Merged with America West 9/05. Reporting for both starting 10/07.) | 5050          | 34                      |\n",
    "| Northwest Airlines Inc.                                                             | 3744          | 34                      |\n",
    "| American Airlines Inc.                                                              | 24681         | 34                      |\n",
    "| United Air Lines Inc.                                                               | 9797          | 31                      |\n",
    "| Mesa Airlines Inc.                                                                  | 4902          | 30                      |\n",
    "| JetBlue Airways                                                                     | 96604         | 30                      |\n",
    "| American Eagle Airlines Inc.                                                        | 15271         | 30                      |\n",
    "| ATA Airlines d/b/a ATA                                                              | 4             | 24                      |"
   ]
  },
  {
   "cell_type": "markdown",
   "metadata": {},
   "source": [
    "#### Problem 7.\tWhat were the top 10 routes (origin and destination city names and airport codes) most likely to have a weather delay of over 10 minutes in December 2005?\n",
    "*Only consider routes with at least 20 flights that month.*"
   ]
  },
  {
   "cell_type": "markdown",
   "metadata": {},
   "source": [
    "##### Code"
   ]
  },
  {
   "cell_type": "code",
   "execution_count": 49,
   "metadata": {},
   "outputs": [
    {
     "name": "stdout",
     "output_type": "stream",
     "text": [
      "connection opened ...\n",
      "| Origin Code | Origin City   | Dest Code | Dest City     | Weather Delays | Total Flights | Percent Delayed  |\n",
      "| ----------- | ------------- | --------- | ------------- | -------------- | ------------- | ---------------- |\n",
      "| BTR         | Baton Rouge   | LGA       | New York      | 8              | 26            | 30.77            |\n",
      "| MEM         | Memphis       | SFO       | San Francisco | 9              | 31            | 29.03            |\n",
      "| LGA         | New York      | SAV       | Savannah      | 22             | 89            | 24.72            |\n",
      "| LGA         | New York      | TYS       | Knoxville     | 6              | 26            | 23.08            |\n",
      "| SFO         | San Francisco | MEM       | Memphis       | 7              | 31            | 22.58            |\n",
      "| LGA         | New York      | PWM       | Portland      | 19             | 92            | 20.65            |\n",
      "| LGA         | New York      | BHM       | Birmingham    | 16             | 88            | 18.18            |\n",
      "| ATL         | Atlanta       | MSN       | Madison       | 11             | 62            | 17.74            |\n",
      "| LGA         | New York      | JAX       | Jacksonville  | 15             | 88            | 17.05            |\n",
      "| CID         | Cedar Rapids  | DEN       | Denver        | 8              | 48            | 16.67            |\n",
      "\n",
      "... connection closed.\n"
     ]
    }
   ],
   "source": [
    "conn = DBConn()\n",
    "q = \"\"\"\n",
    "--sql\n",
    "WITH cte1 AS (\n",
    "    SELECT\n",
    "        \"Origin\",\n",
    "        \"Dest\",\n",
    "        COUNT(*) FILTER (WHERE \"WeatherDelay\" > 10) AS delays,\n",
    "        COUNT(*) AS total_flights\n",
    "    FROM flights\n",
    "    WHERE \"Year\" = 2005 AND \"Month\" = 12\n",
    "    GROUP BY \"Dest\", \"Origin\"\n",
    "    ),\n",
    "cte2 AS (\n",
    "    SELECT\n",
    "        \"Origin\",\n",
    "        \"Dest\",\n",
    "        delays,\n",
    "        total_flights,\n",
    "        (delays/total_flights::FLOAT)*100 delayed_perc\n",
    "    FROM cte1\n",
    "    WHERE total_flights >= 20\n",
    "\n",
    ")\n",
    "\n",
    "SELECT\n",
    "    \"Origin\" AS \"Origin Code\",\n",
    "\toa.city AS \"Origin City\",\n",
    "    \"Dest\" AS \"Dest Code\",\n",
    "\tda.city AS \"Dest City\",\n",
    "    delays AS \"Total Delays\",\n",
    "    total_flights AS \"Total Flights\",\n",
    "    delayed_perc AS \"Percent Delayed\"\n",
    "FROM cte2\n",
    "    \n",
    "INNER JOIN airports as da\n",
    "ON cte2.\"Dest\" = da.iata\n",
    "INNER JOIN airports as oa\n",
    "ON cte2.\"Origin\" = oa.iata\n",
    "\n",
    "ORDER BY delayed_perc desc\n",
    "LIMIT 10\n",
    ";\n",
    "\"\"\"\n",
    "ans[7] = conn.exec(q)\n",
    "head[7] = [\n",
    "    \"Origin Code\",\n",
    "    \"Origin City\", \n",
    "    \"Dest Code\", \n",
    "    \"Dest City\",\n",
    "    \"Weather Delays\",\n",
    "    \"Total Flights\",\n",
    "    \"Percent Delayed\"]\n",
    "print(make_table(head[7],ans[7], round_cols=[6], round_to=2))\n",
    "conn.close()"
   ]
  },
  {
   "cell_type": "markdown",
   "metadata": {},
   "source": [
    "##### Answer"
   ]
  },
  {
   "cell_type": "markdown",
   "metadata": {},
   "source": [
    "| Origin Code | Origin City   | Dest Code | Dest City     | Weather Delays | Total Flights | Percent Delayed  |\n",
    "| ----------- | ------------- | --------- | ------------- | -------------- | ------------- | ---------------- |\n",
    "| BTR         | Baton Rouge   | LGA       | New York      | 8              | 26            | 30.77            |\n",
    "| MEM         | Memphis       | SFO       | San Francisco | 9              | 31            | 29.03            |\n",
    "| LGA         | New York      | SAV       | Savannah      | 22             | 89            | 24.72            |\n",
    "| LGA         | New York      | TYS       | Knoxville     | 6              | 26            | 23.08            |\n",
    "| SFO         | San Francisco | MEM       | Memphis       | 7              | 31            | 22.58            |\n",
    "| LGA         | New York      | PWM       | Portland      | 19             | 92            | 20.65            |\n",
    "| LGA         | New York      | BHM       | Birmingham    | 16             | 88            | 18.18            |\n",
    "| ATL         | Atlanta       | MSN       | Madison       | 11             | 62            | 17.74            |\n",
    "| LGA         | New York      | JAX       | Jacksonville  | 15             | 88            | 17.05            |\n",
    "| CID         | Cedar Rapids  | DEN       | Denver        | 8              | 48            | 16.67            |"
   ]
  },
  {
   "cell_type": "markdown",
   "metadata": {},
   "source": [
    "#### Problem 8.\tFlying Southwest, what is the year-over-year change in on-time travel rate from 2000 to 2007?"
   ]
  },
  {
   "cell_type": "markdown",
   "metadata": {},
   "source": [
    "##### Code"
   ]
  },
  {
   "cell_type": "code",
   "execution_count": 50,
   "metadata": {},
   "outputs": [
    {
     "name": "stdout",
     "output_type": "stream",
     "text": [
      "connection opened ...\n",
      "| Year | Delayed Flights | Total Flights | Percent Delayed  | YOY Change (%)     |\n",
      "| ---- | --------------- | ------------- | ---------------- | ------------------ |\n",
      "| 2000 | 426194          | 911699        | 46.75            | N/A                |\n",
      "| 2001 | 565652          | 957145        | 59.1             | 26.42              |\n",
      "| 2002 | 575653          | 956745        | 60.17            | 1.81               |\n",
      "| 2003 | 639757          | 958566        | 66.74            | 10.92              |\n",
      "| 2004 | 567308          | 990404        | 57.28            | -14.18             |\n",
      "| 2005 | 612598          | 1036034       | 59.13            | 3.23               |\n",
      "| 2006 | 650210          | 1099321       | 59.15            | 0.03               |\n",
      "| 2007 | 666644          | 1168871       | 57.03            | -3.57              |\n",
      "\n",
      "... connection closed.\n"
     ]
    }
   ],
   "source": [
    "conn = DBConn()\n",
    "q = \"\"\"\n",
    "--sql\n",
    "--Get delayed and total flights by year for SouthWest\n",
    "WITH cte1 AS (\n",
    "    SELECT\n",
    "        \"Year\",\n",
    "        COUNT(*) FILTER (WHERE \"ArrDelay\" <= 0) AS delayed_flights,\n",
    "        COUNT(*) AS total_flights\n",
    "    FROM flights\n",
    "    WHERE \"UniqueCarrier\" = 'WN' AND \"Year\" >= 2000 AND \"Year\" <= 2007\n",
    "    GROUP BY \"Year\"\n",
    "    ),\n",
    "--Calculate delayed percent\n",
    "cte2 AS (\n",
    "    SELECT\n",
    "        \"Year\",\n",
    "        delayed_flights,\n",
    "        total_flights,\n",
    "        (delayed_flights/total_flights::FLOAT)*100 delayed_perc\n",
    "    FROM cte1\n",
    "    WHERE total_flights >= 20\n",
    ")\n",
    "--Window YOY\n",
    "SELECT\n",
    "    \"Year\",\n",
    "    delayed_flights AS \"Total Delays\",\n",
    "    total_flights AS \"Total Flights\",\n",
    "    delayed_perc AS \"Percent Delayed\",\n",
    "    (delayed_perc / lag(delayed_perc) OVER (ORDER BY \"Year\") - 1) * 100 AS \"YOY Change\"\n",
    "FROM cte2\n",
    "\n",
    "ORDER BY \"Year\"\n",
    ";\n",
    "\"\"\"\n",
    "ans[8] = conn.exec(q)\n",
    "head[8] = [\n",
    "    \"Year\",\n",
    "    \"Delayed Flights\",\n",
    "    \"Total Flights\",\n",
    "    \"Percent Delayed\",\n",
    "    \"YOY Change (%)\"]\n",
    "print(make_table(head[8],ans[8], round_cols=[3,4], round_to=2))\n",
    "conn.close()"
   ]
  },
  {
   "cell_type": "markdown",
   "metadata": {},
   "source": [
    "##### Answer"
   ]
  },
  {
   "cell_type": "markdown",
   "metadata": {},
   "source": [
    "| Year | Delayed Flights | Total Flights | Percent Delayed  | YOY Change (%)     |\n",
    "| ---- | --------------- | ------------- | ---------------- | ------------------ |\n",
    "| 2000 | 426194          | 911699        | 46.75            | N/A                |\n",
    "| 2001 | 565652          | 957145        | 59.1             | 26.42              |\n",
    "| 2002 | 575653          | 956745        | 60.17            | 1.81               |\n",
    "| 2003 | 639757          | 958566        | 66.74            | 10.92              |\n",
    "| 2004 | 567308          | 990404        | 57.28            | -14.18             |\n",
    "| 2005 | 612598          | 1036034       | 59.13            | 3.23               |\n",
    "| 2006 | 650210          | 1099321       | 59.15            | 0.03               |\n",
    "| 2007 | 666644          | 1168871       | 57.03            | -3.57              |"
   ]
  },
  {
   "cell_type": "markdown",
   "metadata": {},
   "source": [
    "#### Problem 9.\tWhat was the month-to-date on-time arrival rate for United for each date in September 2005?"
   ]
  },
  {
   "cell_type": "markdown",
   "metadata": {},
   "source": [
    "##### Code"
   ]
  },
  {
   "cell_type": "code",
   "execution_count": 51,
   "metadata": {},
   "outputs": [
    {
     "name": "stdout",
     "output_type": "stream",
     "text": [
      "connection opened ...\n",
      "| Day | Delayed Flights MTD | Total Flights MTD |\n",
      "| --- | ------------------- | ----------------- |\n",
      "| 1   | 1854                | 3020              |\n",
      "| 2   | 3503                | 6042              |\n",
      "| 3   | 5341                | 8489              |\n",
      "| 4   | 7149                | 10647             |\n",
      "| 5   | 9111                | 13375             |\n",
      "| 6   | 11058               | 16322             |\n",
      "| 7   | 13458               | 19266             |\n",
      "| 8   | 15577               | 22212             |\n",
      "| 9   | 17414               | 25160             |\n",
      "| 10  | 19366               | 27642             |\n",
      "| 11  | 21058               | 30333             |\n",
      "| 12  | 23199               | 33277             |\n",
      "| 13  | 25209               | 36227             |\n",
      "| 14  | 27141               | 39173             |\n",
      "| 15  | 28565               | 42120             |\n",
      "| 16  | 29821               | 45068             |\n",
      "| 17  | 31423               | 47327             |\n",
      "| 18  | 32897               | 50075             |\n",
      "| 19  | 34547               | 53021             |\n",
      "| 20  | 36381               | 55970             |\n",
      "| 21  | 38287               | 58920             |\n",
      "| 22  | 39536               | 61871             |\n",
      "| 23  | 40995               | 64823             |\n",
      "| 24  | 42500               | 67086             |\n",
      "| 25  | 44087               | 69838             |\n",
      "| 26  | 46011               | 72788             |\n",
      "| 27  | 48161               | 75738             |\n",
      "| 28  | 50055               | 78688             |\n",
      "| 29  | 51783               | 81639             |\n",
      "| 30  | 53288               | 84591             |\n",
      "\n",
      "... connection closed.\n"
     ]
    }
   ],
   "source": [
    "conn = DBConn()\n",
    "q = \"\"\"\n",
    "--sql\n",
    "-- Get delayed and total flights by year for SouthWest\n",
    "WITH cte1 AS (\n",
    "    SELECT\n",
    "        \"DayofMonth\",\n",
    "        COUNT(*) FILTER (WHERE \"ArrDelay\" <= 0) AS delayed_flights,\n",
    "        COUNT(*) AS total_flights\n",
    "    FROM flights \n",
    "    WHERE \n",
    "        \"UniqueCarrier\" = 'WN' AND \n",
    "        \"Month\" = 9 AND\n",
    "        \"Year\" = 2005\n",
    "    GROUP BY \"DayofMonth\"\n",
    "    ),\n",
    "\n",
    "-- Self join to create MTD\n",
    "cte2 AS (\n",
    "    SELECT\n",
    "        a.\"DayofMonth\",\n",
    "        Sum(b.delayed_flights) as mtd_delayed,\n",
    "        Sum(b.total_flights) as mtd_total\n",
    "    FROM cte1 a\n",
    "        LEFT JOIN cte1 b\n",
    "            ON b.\"DayofMonth\" <= a.\"DayofMonth\"\n",
    "    GROUP BY a.\"DayofMonth\"\n",
    "    ORDER BY a.\"DayofMonth\"\n",
    "    )\n",
    "SELECT * FROM cte2\n",
    ";\n",
    "\"\"\"\n",
    "ans[9] = conn.exec(q)\n",
    "head[9] = [\n",
    "    \"Day\",\n",
    "    \"Delayed Flights MTD\",\n",
    "    \"Total Flights MTD\",\n",
    "    ]\n",
    "print(make_table(head[9],ans[9]))\n",
    "conn.close()"
   ]
  },
  {
   "cell_type": "markdown",
   "metadata": {},
   "source": [
    "##### Answer"
   ]
  },
  {
   "cell_type": "markdown",
   "metadata": {},
   "source": [
    "| Day | Delayed Flights MTD | Total Flights MTD |\n",
    "| --- | ------------------- | ----------------- |\n",
    "| 1   | 1854                | 3020              |\n",
    "| 2   | 3503                | 6042              |\n",
    "| 3   | 5341                | 8489              |\n",
    "| 4   | 7149                | 10647             |\n",
    "| 5   | 9111                | 13375             |\n",
    "| 6   | 11058               | 16322             |\n",
    "| 7   | 13458               | 19266             |\n",
    "| 8   | 15577               | 22212             |\n",
    "| 9   | 17414               | 25160             |\n",
    "| 10  | 19366               | 27642             |\n",
    "| 11  | 21058               | 30333             |\n",
    "| 12  | 23199               | 33277             |\n",
    "| 13  | 25209               | 36227             |\n",
    "| 14  | 27141               | 39173             |\n",
    "| 15  | 28565               | 42120             |\n",
    "| 16  | 29821               | 45068             |\n",
    "| 17  | 31423               | 47327             |\n",
    "| 18  | 32897               | 50075             |\n",
    "| 19  | 34547               | 53021             |\n",
    "| 20  | 36381               | 55970             |\n",
    "| 21  | 38287               | 58920             |\n",
    "| 22  | 39536               | 61871             |\n",
    "| 23  | 40995               | 64823             |\n",
    "| 24  | 42500               | 67086             |\n",
    "| 25  | 44087               | 69838             |\n",
    "| 26  | 46011               | 72788             |\n",
    "| 27  | 48161               | 75738             |\n",
    "| 28  | 50055               | 78688             |\n",
    "| 29  | 51783               | 81639             |\n",
    "| 30  | 53288               | 84591             |"
   ]
  },
  {
   "cell_type": "markdown",
   "metadata": {},
   "source": [
    "### Export answers to .csv"
   ]
  },
  {
   "cell_type": "code",
   "execution_count": 55,
   "metadata": {},
   "outputs": [
    {
     "name": "stdout",
     "output_type": "stream",
     "text": [
      ".\n",
      "writing data to : C:\\Users\\Public\\data\\output\n",
      "writing to C:\\Users\\Public\\data\\output\\ans_1.csv\n",
      "writing to C:\\Users\\Public\\data\\output\\ans_2.csv\n",
      "writing to C:\\Users\\Public\\data\\output\\ans_3.csv\n",
      "writing to C:\\Users\\Public\\data\\output\\ans_4.csv\n",
      "writing to C:\\Users\\Public\\data\\output\\ans_5.csv\n",
      "writing to C:\\Users\\Public\\data\\output\\ans_6.csv\n",
      "writing to C:\\Users\\Public\\data\\output\\ans_7.csv\n",
      "writing to C:\\Users\\Public\\data\\output\\ans_8.csv\n",
      "writing to C:\\Users\\Public\\data\\output\\ans_9.csv\n"
     ]
    }
   ],
   "source": [
    "\n",
    "OUTPUT_DIR = os.path.join(DATA_DIR,\"output\")\n",
    "if not os.path.exists(OUTPUT_DIR):\n",
    "    os.makedirs(OUTPUT_DIR)\n",
    "\n",
    "ans_temp=deepcopy(ans)\n",
    "head_temp=deepcopy(head)\n",
    "print(os.curdir)\n",
    "\n",
    "print('writing data to :',OUTPUT_DIR)\n",
    "\n",
    "for i, answer in enumerate(ans_temp, 1):\n",
    "    fname= \"ans_\"+str(i)+'.csv'\n",
    "    path_ = os.path.join(OUTPUT_DIR,fname)\n",
    "    print(f'writing to {path_}')\n",
    "    with open(path_,\"w\", newline=\"\") as f:\n",
    "        writer = csv.writer(f)\n",
    "        writer.writerow(head_temp[i])\n",
    "        writer.writerows(ans_temp.values())\n",
    "\n",
    "    "
   ]
  }
 ],
 "metadata": {
  "interpreter": {
   "hash": "62fceacedb450e62e0875c801c359dca848f3b893084d28dc80946ee182fde9c"
  },
  "kernelspec": {
   "display_name": "Python 3.9.7 64-bit ('TME-Local': venv)",
   "language": "python",
   "name": "python3"
  },
  "language_info": {
   "codemirror_mode": {
    "name": "ipython",
    "version": 3
   },
   "file_extension": ".py",
   "mimetype": "text/x-python",
   "name": "python",
   "nbconvert_exporter": "python",
   "pygments_lexer": "ipython3",
   "version": "3.9.7"
  },
  "orig_nbformat": 4
 },
 "nbformat": 4,
 "nbformat_minor": 2
}
